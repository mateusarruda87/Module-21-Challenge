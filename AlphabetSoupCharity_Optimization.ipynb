{
 "cells": [
  {
   "cell_type": "markdown",
   "metadata": {},
   "source": [
    "## Preprocessing"
   ]
  },
  {
   "cell_type": "code",
   "execution_count": 1,
   "metadata": {},
   "outputs": [
    {
     "name": "stderr",
     "output_type": "stream",
     "text": [
      "2023-05-17 11:31:05.462126: I tensorflow/core/platform/cpu_feature_guard.cc:193] This TensorFlow binary is optimized with oneAPI Deep Neural Network Library (oneDNN) to use the following CPU instructions in performance-critical operations:  AVX2 AVX512F AVX512_VNNI FMA\n",
      "To enable them in other operations, rebuild TensorFlow with the appropriate compiler flags.\n"
     ]
    },
    {
     "data": {
      "text/html": [
       "<div>\n",
       "<style scoped>\n",
       "    .dataframe tbody tr th:only-of-type {\n",
       "        vertical-align: middle;\n",
       "    }\n",
       "\n",
       "    .dataframe tbody tr th {\n",
       "        vertical-align: top;\n",
       "    }\n",
       "\n",
       "    .dataframe thead th {\n",
       "        text-align: right;\n",
       "    }\n",
       "</style>\n",
       "<table border=\"1\" class=\"dataframe\">\n",
       "  <thead>\n",
       "    <tr style=\"text-align: right;\">\n",
       "      <th></th>\n",
       "      <th>EIN</th>\n",
       "      <th>NAME</th>\n",
       "      <th>APPLICATION_TYPE</th>\n",
       "      <th>AFFILIATION</th>\n",
       "      <th>CLASSIFICATION</th>\n",
       "      <th>USE_CASE</th>\n",
       "      <th>ORGANIZATION</th>\n",
       "      <th>STATUS</th>\n",
       "      <th>INCOME_AMT</th>\n",
       "      <th>SPECIAL_CONSIDERATIONS</th>\n",
       "      <th>ASK_AMT</th>\n",
       "      <th>IS_SUCCESSFUL</th>\n",
       "    </tr>\n",
       "  </thead>\n",
       "  <tbody>\n",
       "    <tr>\n",
       "      <th>0</th>\n",
       "      <td>10520599</td>\n",
       "      <td>BLUE KNIGHTS MOTORCYCLE CLUB</td>\n",
       "      <td>T10</td>\n",
       "      <td>Independent</td>\n",
       "      <td>C1000</td>\n",
       "      <td>ProductDev</td>\n",
       "      <td>Association</td>\n",
       "      <td>1</td>\n",
       "      <td>0</td>\n",
       "      <td>N</td>\n",
       "      <td>5000</td>\n",
       "      <td>1</td>\n",
       "    </tr>\n",
       "    <tr>\n",
       "      <th>1</th>\n",
       "      <td>10531628</td>\n",
       "      <td>AMERICAN CHESAPEAKE CLUB CHARITABLE TR</td>\n",
       "      <td>T3</td>\n",
       "      <td>Independent</td>\n",
       "      <td>C2000</td>\n",
       "      <td>Preservation</td>\n",
       "      <td>Co-operative</td>\n",
       "      <td>1</td>\n",
       "      <td>1-9999</td>\n",
       "      <td>N</td>\n",
       "      <td>108590</td>\n",
       "      <td>1</td>\n",
       "    </tr>\n",
       "    <tr>\n",
       "      <th>2</th>\n",
       "      <td>10547893</td>\n",
       "      <td>ST CLOUD PROFESSIONAL FIREFIGHTERS</td>\n",
       "      <td>T5</td>\n",
       "      <td>CompanySponsored</td>\n",
       "      <td>C3000</td>\n",
       "      <td>ProductDev</td>\n",
       "      <td>Association</td>\n",
       "      <td>1</td>\n",
       "      <td>0</td>\n",
       "      <td>N</td>\n",
       "      <td>5000</td>\n",
       "      <td>0</td>\n",
       "    </tr>\n",
       "    <tr>\n",
       "      <th>3</th>\n",
       "      <td>10553066</td>\n",
       "      <td>SOUTHSIDE ATHLETIC ASSOCIATION</td>\n",
       "      <td>T3</td>\n",
       "      <td>CompanySponsored</td>\n",
       "      <td>C2000</td>\n",
       "      <td>Preservation</td>\n",
       "      <td>Trust</td>\n",
       "      <td>1</td>\n",
       "      <td>10000-24999</td>\n",
       "      <td>N</td>\n",
       "      <td>6692</td>\n",
       "      <td>1</td>\n",
       "    </tr>\n",
       "    <tr>\n",
       "      <th>4</th>\n",
       "      <td>10556103</td>\n",
       "      <td>GENETIC RESEARCH INSTITUTE OF THE DESERT</td>\n",
       "      <td>T3</td>\n",
       "      <td>Independent</td>\n",
       "      <td>C1000</td>\n",
       "      <td>Heathcare</td>\n",
       "      <td>Trust</td>\n",
       "      <td>1</td>\n",
       "      <td>100000-499999</td>\n",
       "      <td>N</td>\n",
       "      <td>142590</td>\n",
       "      <td>1</td>\n",
       "    </tr>\n",
       "  </tbody>\n",
       "</table>\n",
       "</div>"
      ],
      "text/plain": [
       "        EIN                                      NAME APPLICATION_TYPE  \\\n",
       "0  10520599              BLUE KNIGHTS MOTORCYCLE CLUB              T10   \n",
       "1  10531628    AMERICAN CHESAPEAKE CLUB CHARITABLE TR               T3   \n",
       "2  10547893        ST CLOUD PROFESSIONAL FIREFIGHTERS               T5   \n",
       "3  10553066            SOUTHSIDE ATHLETIC ASSOCIATION               T3   \n",
       "4  10556103  GENETIC RESEARCH INSTITUTE OF THE DESERT               T3   \n",
       "\n",
       "        AFFILIATION CLASSIFICATION      USE_CASE  ORGANIZATION  STATUS  \\\n",
       "0       Independent          C1000    ProductDev   Association       1   \n",
       "1       Independent          C2000  Preservation  Co-operative       1   \n",
       "2  CompanySponsored          C3000    ProductDev   Association       1   \n",
       "3  CompanySponsored          C2000  Preservation         Trust       1   \n",
       "4       Independent          C1000     Heathcare         Trust       1   \n",
       "\n",
       "      INCOME_AMT SPECIAL_CONSIDERATIONS  ASK_AMT  IS_SUCCESSFUL  \n",
       "0              0                      N     5000              1  \n",
       "1         1-9999                      N   108590              1  \n",
       "2              0                      N     5000              0  \n",
       "3    10000-24999                      N     6692              1  \n",
       "4  100000-499999                      N   142590              1  "
      ]
     },
     "execution_count": 1,
     "metadata": {},
     "output_type": "execute_result"
    }
   ],
   "source": [
    "# Import our dependencies\n",
    "from sklearn.model_selection import train_test_split\n",
    "from sklearn.preprocessing import StandardScaler\n",
    "import pandas as pd\n",
    "import tensorflow as tf\n",
    "\n",
    "#  Import and read the charity_data.csv.\n",
    "import pandas as pd \n",
    "application_df = pd.read_csv(\"https://static.bc-edx.com/data/dl-1-2/m21/lms/starter/charity_data.csv\")\n",
    "application_df.head()"
   ]
  },
  {
   "cell_type": "code",
   "execution_count": 2,
   "metadata": {},
   "outputs": [],
   "source": [
    "# Drop the non-beneficial ID column 'EIN'\n",
    "application_df = application_df.drop(['EIN'], axis = 1)"
   ]
  },
  {
   "cell_type": "code",
   "execution_count": 3,
   "metadata": {},
   "outputs": [
    {
     "data": {
      "text/plain": [
       "NAME                      19568\n",
       "APPLICATION_TYPE             17\n",
       "AFFILIATION                   6\n",
       "CLASSIFICATION               71\n",
       "USE_CASE                      5\n",
       "ORGANIZATION                  4\n",
       "STATUS                        2\n",
       "INCOME_AMT                    9\n",
       "SPECIAL_CONSIDERATIONS        2\n",
       "ASK_AMT                    8747\n",
       "IS_SUCCESSFUL                 2\n",
       "dtype: int64"
      ]
     },
     "execution_count": 3,
     "metadata": {},
     "output_type": "execute_result"
    }
   ],
   "source": [
    "# Determine the number of unique values in each column.\n",
    "application_df.nunique()"
   ]
  },
  {
   "cell_type": "code",
   "execution_count": 4,
   "metadata": {},
   "outputs": [
    {
     "data": {
      "text/plain": [
       "PARENT BOOSTER USA INC                                                  1260\n",
       "TOPS CLUB INC                                                            765\n",
       "UNITED STATES BOWLING CONGRESS INC                                       700\n",
       "WASHINGTON STATE UNIVERSITY                                              492\n",
       "AMATEUR ATHLETIC UNION OF THE UNITED STATES INC                          408\n",
       "                                                                        ... \n",
       "ST LOUIS SLAM WOMENS FOOTBALL                                              1\n",
       "AIESEC ALUMNI IBEROAMERICA CORP                                            1\n",
       "WEALLBLEEDRED ORG INC                                                      1\n",
       "AMERICAN SOCIETY FOR STANDARDS IN MEDIUMSHIP & PSYCHICAL INVESTIGATI       1\n",
       "WATERHOUSE CHARITABLE TR                                                   1\n",
       "Name: NAME, Length: 19568, dtype: int64"
      ]
     },
     "execution_count": 4,
     "metadata": {},
     "output_type": "execute_result"
    }
   ],
   "source": [
    "# Look at NAME value counts for binning\n",
    "counts = application_df['NAME'].value_counts()\n",
    "counts"
   ]
  },
  {
   "cell_type": "code",
   "execution_count": 5,
   "metadata": {},
   "outputs": [
    {
     "data": {
      "text/plain": [
       "Other                                                                 24545\n",
       "PARENT BOOSTER USA INC                                                 1260\n",
       "TOPS CLUB INC                                                           765\n",
       "UNITED STATES BOWLING CONGRESS INC                                      700\n",
       "WASHINGTON STATE UNIVERSITY                                             492\n",
       "AMATEUR ATHLETIC UNION OF THE UNITED STATES INC                         408\n",
       "PTA TEXAS CONGRESS                                                      368\n",
       "SOROPTIMIST INTERNATIONAL OF THE AMERICAS INC                           331\n",
       "ALPHA PHI SIGMA                                                         313\n",
       "TOASTMASTERS INTERNATIONAL                                              293\n",
       "MOST WORSHIPFUL STRINGER FREE AND ACCEPTED MASONS                       287\n",
       "LITTLE LEAGUE BASEBALL INC                                              277\n",
       "INTERNATIONAL ASSOCIATION OF LIONS CLUBS                                266\n",
       "MOMS CLUB                                                               210\n",
       "INTERNATIONAL ASSOCIATION OF SHEET METAL AIR RAIL & TRANSPORTATION      206\n",
       "AMERICAN ASSOCIATION OF UNIVERSITY WOMEN                                197\n",
       "FARMERS EDUCATIONAL AND COOPERATIVE UNION OF AMERICA                    166\n",
       "KNIGHTS OF COLUMBUS                                                     158\n",
       "HABITAT FOR HUMANITY INTERNATIONAL INC                                  154\n",
       "TENNESSEE ORDER OF THE EASTERN STAR                                     151\n",
       "VETERANS OF FOREIGN WARS OF THE UNITED STATES AUXILIARY                 144\n",
       "PTA UTAH CONGRESS                                                       140\n",
       "THE UNITED STATES PONY CLUBS INC                                        136\n",
       "CIVITAN INTERNATIONAL                                                   131\n",
       "SIGMA BETA DELTA INC                                                    127\n",
       "MONTANA 4-H FOUNDATION INC                                              107\n",
       "HONOR SOCIETY OF PHI KAPPA PHI                                          107\n",
       "WASHINGTON STATE GRANGE                                                 106\n",
       "UNIVERSITY OF WYOMING                                                   105\n",
       "DEMOLAY INTERNATIONAL                                                   104\n",
       "SERTOMA INC                                                             103\n",
       "AIR FORCE ASSOCIATION                                                    99\n",
       "WORKERS UNITED                                                           97\n",
       "GAMMA THETA UPSILON                                                      92\n",
       "INTERNATIONAL ASSOCIATION OF FIRE FIGHTERS                               91\n",
       "SOCIETY OF SAINT VINCENT DE PAUL COUNCIL OF LOS ANGELES                  87\n",
       "ROTARY INTERNATIONAL                                                     84\n",
       "CALIFORNIA GARDEN CLUBS INC                                              76\n",
       "SWEET ADELINES INTERNATIONAL                                             73\n",
       "DISABLED AMERICAN VETERANS                                               73\n",
       "KLEIN SUPPORT GROUPS INC                                                 69\n",
       "CLEARCREEK I S D SUPPORT GROUPS                                          60\n",
       "VFW AUXILIARY DEPARTMENT OF OKLAHOMA INC                                 58\n",
       "CISD EDUCATIONAL SUPPORT GROUPS INC                                      57\n",
       "DEPARTMENT OF KANSAS LADIES AUXILIARY TO THE VFW OF THE US INC           57\n",
       "SONS OF CONFEDERATE VETERANS INC                                         56\n",
       "SLOW FOOD USA INC                                                        55\n",
       "NATIONAL YOUNG MENS SERVICE LEAGUE                                       54\n",
       "AMATEUR ATHLETIC UNION OF THE UNITED STATES                              52\n",
       "LAMBDA THETA ALPHA                                                       52\n",
       "UNITED FEDERATION OF DOLL CLUBS INC                                      50\n",
       "UNIVERSITY OF FLORIDA                                                    50\n",
       "Name: NAME, dtype: int64"
      ]
     },
     "execution_count": 5,
     "metadata": {},
     "output_type": "execute_result"
    }
   ],
   "source": [
    "# Choose a cutoff value and create a list of names to be replaced\n",
    "# use the variable name `name_to_replace`\n",
    "cutoff_value = 50\n",
    "counts = application_df['NAME'].value_counts()\n",
    "name_to_replace = counts[counts < cutoff_value].index.tolist()\n",
    "\n",
    "# Replace in dataframe\n",
    "for name in name_to_replace:\n",
    "    application_df['NAME'] = application_df['NAME'].replace(name,\"Other\")\n",
    "\n",
    "# Check to make sure binning was successful\n",
    "application_df['NAME'].value_counts()"
   ]
  },
  {
   "cell_type": "code",
   "execution_count": 6,
   "metadata": {},
   "outputs": [
    {
     "data": {
      "text/plain": [
       "T3     27037\n",
       "T4      1542\n",
       "T6      1216\n",
       "T5      1173\n",
       "T19     1065\n",
       "T8       737\n",
       "T7       725\n",
       "T10      528\n",
       "T9       156\n",
       "T13       66\n",
       "T12       27\n",
       "T2        16\n",
       "T25        3\n",
       "T14        3\n",
       "T29        2\n",
       "T15        2\n",
       "T17        1\n",
       "Name: APPLICATION_TYPE, dtype: int64"
      ]
     },
     "execution_count": 6,
     "metadata": {},
     "output_type": "execute_result"
    }
   ],
   "source": [
    "# Look at APPLICATION_TYPE value counts for binning\n",
    "counts = application_df['APPLICATION_TYPE'].value_counts()\n",
    "counts"
   ]
  },
  {
   "cell_type": "code",
   "execution_count": 7,
   "metadata": {},
   "outputs": [
    {
     "data": {
      "text/plain": [
       "T3       27037\n",
       "T4        1542\n",
       "T6        1216\n",
       "T5        1173\n",
       "T19       1065\n",
       "T8         737\n",
       "T7         725\n",
       "T10        528\n",
       "Other      276\n",
       "Name: APPLICATION_TYPE, dtype: int64"
      ]
     },
     "execution_count": 7,
     "metadata": {},
     "output_type": "execute_result"
    }
   ],
   "source": [
    "# Choose a cutoff value and create a list of application types to be replaced\n",
    "# use the variable name `application_types_to_replace`\n",
    "cutoff_value = 500\n",
    "counts = application_df['APPLICATION_TYPE'].value_counts()\n",
    "application_types_to_replace = counts[counts < cutoff_value].index.tolist()\n",
    "\n",
    "# Replace in dataframe\n",
    "for app in application_types_to_replace:\n",
    "    application_df['APPLICATION_TYPE'] = application_df['APPLICATION_TYPE'].replace(app,\"Other\")\n",
    "\n",
    "# Check to make sure binning was successful\n",
    "application_df['APPLICATION_TYPE'].value_counts()"
   ]
  },
  {
   "cell_type": "code",
   "execution_count": 8,
   "metadata": {},
   "outputs": [
    {
     "name": "stdout",
     "output_type": "stream",
     "text": [
      "C1000    17326\n",
      "C2000     6074\n",
      "C1200     4837\n",
      "C3000     1918\n",
      "C2100     1883\n",
      "         ...  \n",
      "C4120        1\n",
      "C8210        1\n",
      "C2561        1\n",
      "C4500        1\n",
      "C2150        1\n",
      "Name: CLASSIFICATION, Length: 71, dtype: int64\n"
     ]
    }
   ],
   "source": [
    "# Look at CLASSIFICATION value counts for binning\n",
    "classification_counts = application_df['CLASSIFICATION'].value_counts()\n",
    "print(classification_counts)"
   ]
  },
  {
   "cell_type": "code",
   "execution_count": 9,
   "metadata": {},
   "outputs": [
    {
     "name": "stdout",
     "output_type": "stream",
     "text": [
      "C1000    17326\n",
      "C2000     6074\n",
      "C1200     4837\n",
      "C3000     1918\n",
      "C2100     1883\n",
      "C7000      777\n",
      "C1700      287\n",
      "C4000      194\n",
      "C5000      116\n",
      "C1270      114\n",
      "C2700      104\n",
      "C2800       95\n",
      "C7100       75\n",
      "C1300       58\n",
      "C1280       50\n",
      "C1230       36\n",
      "C1400       34\n",
      "C7200       32\n",
      "C2300       32\n",
      "C1240       30\n",
      "C8000       20\n",
      "C7120       18\n",
      "C1500       16\n",
      "C1800       15\n",
      "C6000       15\n",
      "C1250       14\n",
      "C8200       11\n",
      "C1238       10\n",
      "C1278       10\n",
      "C1235        9\n",
      "C1237        9\n",
      "C7210        7\n",
      "C2400        6\n",
      "C1720        6\n",
      "C4100        6\n",
      "C1257        5\n",
      "C1600        5\n",
      "C1260        3\n",
      "C2710        3\n",
      "C0           3\n",
      "C3200        2\n",
      "C1234        2\n",
      "C1246        2\n",
      "C1267        2\n",
      "C1256        2\n",
      "Name: CLASSIFICATION, dtype: int64\n"
     ]
    }
   ],
   "source": [
    "# You may find it helpful to look at CLASSIFICATION value counts >1\n",
    "classification_counts = application_df['CLASSIFICATION'].value_counts()\n",
    "classification_counts_greater_than_1 = classification_counts[classification_counts > 1]\n",
    "print(classification_counts_greater_than_1)"
   ]
  },
  {
   "cell_type": "code",
   "execution_count": 10,
   "metadata": {},
   "outputs": [
    {
     "data": {
      "text/plain": [
       "C1000    17326\n",
       "C2000     6074\n",
       "C1200     4837\n",
       "Other     2261\n",
       "C3000     1918\n",
       "C2100     1883\n",
       "Name: CLASSIFICATION, dtype: int64"
      ]
     },
     "execution_count": 10,
     "metadata": {},
     "output_type": "execute_result"
    }
   ],
   "source": [
    "# Choose a cutoff value and create a list of classifications to be replaced\n",
    "# use the variable name `classifications_to_replace`\n",
    "cutoff_value = 1000\n",
    "classification_counts = application_df['CLASSIFICATION'].value_counts()\n",
    "classifications_to_replace = classification_counts[classification_counts < cutoff_value].index.tolist()\n",
    "\n",
    "# Replace in dataframe\n",
    "for cls in classifications_to_replace:\n",
    "    application_df['CLASSIFICATION'] = application_df['CLASSIFICATION'].replace(cls, \"Other\")\n",
    "\n",
    "# Check to make sure binning was successful\n",
    "application_df['CLASSIFICATION'].value_counts()"
   ]
  },
  {
   "cell_type": "code",
   "execution_count": 11,
   "metadata": {},
   "outputs": [],
   "source": [
    "# Convert categorical data to numeric with `pd.get_dummies`\n",
    "application_df = pd.get_dummies(application_df)"
   ]
  },
  {
   "cell_type": "code",
   "execution_count": 12,
   "metadata": {},
   "outputs": [],
   "source": [
    "# Split our preprocessed data into our features and target arrays\n",
    "features = application_df.drop('IS_SUCCESSFUL', axis=1)\n",
    "target = application_df['IS_SUCCESSFUL']\n",
    "\n",
    "# Split the preprocessed data into a training and testing dataset\n",
    "X_train, X_test, y_train, y_test = train_test_split(features, target, test_size=0.2, random_state=42)"
   ]
  },
  {
   "cell_type": "code",
   "execution_count": 13,
   "metadata": {},
   "outputs": [],
   "source": [
    "# Create a StandardScaler instances\n",
    "scaler = StandardScaler()\n",
    "\n",
    "# Fit the StandardScaler\n",
    "X_scaler = scaler.fit(X_train)\n",
    "\n",
    "# Scale the data\n",
    "X_train_scaled = X_scaler.transform(X_train)\n",
    "X_test_scaled = X_scaler.transform(X_test)"
   ]
  },
  {
   "cell_type": "markdown",
   "metadata": {},
   "source": [
    "## Compile, Train and Evaluate the Model"
   ]
  },
  {
   "cell_type": "code",
   "execution_count": 14,
   "metadata": {},
   "outputs": [
    {
     "name": "stdout",
     "output_type": "stream",
     "text": [
      "Model: \"sequential\"\n",
      "_________________________________________________________________\n",
      " Layer (type)                Output Shape              Param #   \n",
      "=================================================================\n",
      " dense (Dense)               (None, 7)                 672       \n",
      "                                                                 \n",
      " dense_1 (Dense)             (None, 14)                112       \n",
      "                                                                 \n",
      " dense_2 (Dense)             (None, 1)                 15        \n",
      "                                                                 \n",
      "=================================================================\n",
      "Total params: 799\n",
      "Trainable params: 799\n",
      "Non-trainable params: 0\n",
      "_________________________________________________________________\n"
     ]
    },
    {
     "name": "stderr",
     "output_type": "stream",
     "text": [
      "2023-05-17 11:32:44.859228: I tensorflow/core/platform/cpu_feature_guard.cc:193] This TensorFlow binary is optimized with oneAPI Deep Neural Network Library (oneDNN) to use the following CPU instructions in performance-critical operations:  AVX2 AVX512F AVX512_VNNI FMA\n",
      "To enable them in other operations, rebuild TensorFlow with the appropriate compiler flags.\n"
     ]
    }
   ],
   "source": [
    "# Define the model - deep neural net, i.e., the number of input features and hidden nodes for each layer.\n",
    "number_input_features = len( X_train_scaled[0])\n",
    "hidden_nodes_layer1=7\n",
    "hidden_nodes_layer2=14\n",
    "hidden_nodes_layer3=21\n",
    "\n",
    "nn = tf.keras.models.Sequential()\n",
    "\n",
    "# First hidden layer\n",
    "nn.add(tf.keras.layers.Dense(units=hidden_nodes_layer1, input_dim=number_input_features, activation='relu'))\n",
    "\n",
    "# Second hidden layer\n",
    "nn.add(tf.keras.layers.Dense(units=hidden_nodes_layer2, activation='relu'))\n",
    "\n",
    "# Output layer\n",
    "nn.add(tf.keras.layers.Dense(units=1, activation='sigmoid'))\n",
    "\n",
    "# Check the structure of the model\n",
    "nn.summary()"
   ]
  },
  {
   "cell_type": "code",
   "execution_count": 15,
   "metadata": {},
   "outputs": [],
   "source": [
    "# Compile the model\n",
    "nn.compile(loss='binary_crossentropy', optimizer='adam', metrics=['accuracy'])"
   ]
  },
  {
   "cell_type": "code",
   "execution_count": 16,
   "metadata": {},
   "outputs": [
    {
     "name": "stdout",
     "output_type": "stream",
     "text": [
      "Epoch 1/100\n",
      "858/858 [==============================] - 2s 2ms/step - loss: 0.5481 - accuracy: 0.7126\n",
      "Epoch 2/100\n",
      "858/858 [==============================] - 2s 2ms/step - loss: 0.4860 - accuracy: 0.7573\n",
      "Epoch 3/100\n",
      "858/858 [==============================] - 2s 2ms/step - loss: 0.4797 - accuracy: 0.7630\n",
      "Epoch 4/100\n",
      "858/858 [==============================] - 2s 2ms/step - loss: 0.4772 - accuracy: 0.7644\n",
      "Epoch 5/100\n",
      "858/858 [==============================] - 2s 2ms/step - loss: 0.4763 - accuracy: 0.7649\n",
      "Epoch 6/100\n",
      "858/858 [==============================] - 2s 2ms/step - loss: 0.4754 - accuracy: 0.7651\n",
      "Epoch 7/100\n",
      "858/858 [==============================] - 2s 2ms/step - loss: 0.4749 - accuracy: 0.7666\n",
      "Epoch 8/100\n",
      "858/858 [==============================] - 2s 2ms/step - loss: 0.4744 - accuracy: 0.7677\n",
      "Epoch 9/100\n",
      "858/858 [==============================] - 2s 2ms/step - loss: 0.4739 - accuracy: 0.7670\n",
      "Epoch 10/100\n",
      "858/858 [==============================] - 2s 2ms/step - loss: 0.4736 - accuracy: 0.7663\n",
      "Epoch 11/100\n",
      "858/858 [==============================] - 2s 2ms/step - loss: 0.4732 - accuracy: 0.7684\n",
      "Epoch 12/100\n",
      "858/858 [==============================] - 2s 2ms/step - loss: 0.4731 - accuracy: 0.7676\n",
      "Epoch 13/100\n",
      "858/858 [==============================] - 2s 2ms/step - loss: 0.4727 - accuracy: 0.7688\n",
      "Epoch 14/100\n",
      "858/858 [==============================] - 2s 2ms/step - loss: 0.4720 - accuracy: 0.7682\n",
      "Epoch 15/100\n",
      "858/858 [==============================] - 2s 2ms/step - loss: 0.4716 - accuracy: 0.7686\n",
      "Epoch 16/100\n",
      "858/858 [==============================] - 2s 2ms/step - loss: 0.4716 - accuracy: 0.7686\n",
      "Epoch 17/100\n",
      "858/858 [==============================] - 2s 2ms/step - loss: 0.4712 - accuracy: 0.7687\n",
      "Epoch 18/100\n",
      "858/858 [==============================] - 2s 2ms/step - loss: 0.4708 - accuracy: 0.7676\n",
      "Epoch 19/100\n",
      "858/858 [==============================] - 2s 2ms/step - loss: 0.4708 - accuracy: 0.7693\n",
      "Epoch 20/100\n",
      "858/858 [==============================] - 2s 2ms/step - loss: 0.4708 - accuracy: 0.7687\n",
      "Epoch 21/100\n",
      "858/858 [==============================] - 2s 2ms/step - loss: 0.4707 - accuracy: 0.7689\n",
      "Epoch 22/100\n",
      "858/858 [==============================] - 2s 2ms/step - loss: 0.4700 - accuracy: 0.7692\n",
      "Epoch 23/100\n",
      "858/858 [==============================] - 2s 2ms/step - loss: 0.4699 - accuracy: 0.7701\n",
      "Epoch 24/100\n",
      "858/858 [==============================] - 2s 2ms/step - loss: 0.4695 - accuracy: 0.7692\n",
      "Epoch 25/100\n",
      "858/858 [==============================] - 2s 2ms/step - loss: 0.4686 - accuracy: 0.7695\n",
      "Epoch 26/100\n",
      "858/858 [==============================] - 2s 2ms/step - loss: 0.4685 - accuracy: 0.7701\n",
      "Epoch 27/100\n",
      "858/858 [==============================] - 2s 2ms/step - loss: 0.4686 - accuracy: 0.7697\n",
      "Epoch 28/100\n",
      "858/858 [==============================] - 2s 2ms/step - loss: 0.4683 - accuracy: 0.7693\n",
      "Epoch 29/100\n",
      "858/858 [==============================] - 2s 2ms/step - loss: 0.4679 - accuracy: 0.7705\n",
      "Epoch 30/100\n",
      "858/858 [==============================] - 2s 2ms/step - loss: 0.4682 - accuracy: 0.7696\n",
      "Epoch 31/100\n",
      "858/858 [==============================] - 2s 2ms/step - loss: 0.4680 - accuracy: 0.7707\n",
      "Epoch 32/100\n",
      "858/858 [==============================] - 2s 2ms/step - loss: 0.4676 - accuracy: 0.7701\n",
      "Epoch 33/100\n",
      "858/858 [==============================] - 2s 2ms/step - loss: 0.4679 - accuracy: 0.7700\n",
      "Epoch 34/100\n",
      "858/858 [==============================] - 2s 2ms/step - loss: 0.4677 - accuracy: 0.7696\n",
      "Epoch 35/100\n",
      "858/858 [==============================] - 2s 2ms/step - loss: 0.4675 - accuracy: 0.7704\n",
      "Epoch 36/100\n",
      "858/858 [==============================] - 2s 2ms/step - loss: 0.4676 - accuracy: 0.7705\n",
      "Epoch 37/100\n",
      "858/858 [==============================] - 2s 2ms/step - loss: 0.4674 - accuracy: 0.7706\n",
      "Epoch 38/100\n",
      "858/858 [==============================] - 2s 2ms/step - loss: 0.4672 - accuracy: 0.7697\n",
      "Epoch 39/100\n",
      "858/858 [==============================] - 2s 2ms/step - loss: 0.4672 - accuracy: 0.7703\n",
      "Epoch 40/100\n",
      "858/858 [==============================] - 2s 2ms/step - loss: 0.4670 - accuracy: 0.7704\n",
      "Epoch 41/100\n",
      "858/858 [==============================] - 2s 2ms/step - loss: 0.4669 - accuracy: 0.7708\n",
      "Epoch 42/100\n",
      "858/858 [==============================] - 2s 2ms/step - loss: 0.4671 - accuracy: 0.7698\n",
      "Epoch 43/100\n",
      "858/858 [==============================] - 2s 2ms/step - loss: 0.4668 - accuracy: 0.7708\n",
      "Epoch 44/100\n",
      "858/858 [==============================] - 2s 2ms/step - loss: 0.4666 - accuracy: 0.7712\n",
      "Epoch 45/100\n",
      "858/858 [==============================] - 2s 2ms/step - loss: 0.4667 - accuracy: 0.7713\n",
      "Epoch 46/100\n",
      "858/858 [==============================] - 2s 2ms/step - loss: 0.4666 - accuracy: 0.7712\n",
      "Epoch 47/100\n",
      "858/858 [==============================] - 2s 2ms/step - loss: 0.4662 - accuracy: 0.7715\n",
      "Epoch 48/100\n",
      "858/858 [==============================] - 2s 2ms/step - loss: 0.4665 - accuracy: 0.7698\n",
      "Epoch 49/100\n",
      "858/858 [==============================] - 2s 2ms/step - loss: 0.4666 - accuracy: 0.7703\n",
      "Epoch 50/100\n",
      "858/858 [==============================] - 2s 2ms/step - loss: 0.4664 - accuracy: 0.7712\n",
      "Epoch 51/100\n",
      "858/858 [==============================] - 2s 2ms/step - loss: 0.4662 - accuracy: 0.7708\n",
      "Epoch 52/100\n",
      "858/858 [==============================] - 2s 2ms/step - loss: 0.4663 - accuracy: 0.7708\n",
      "Epoch 53/100\n",
      "858/858 [==============================] - 2s 2ms/step - loss: 0.4660 - accuracy: 0.7705\n",
      "Epoch 54/100\n",
      "858/858 [==============================] - 2s 2ms/step - loss: 0.4663 - accuracy: 0.7709\n",
      "Epoch 55/100\n",
      "858/858 [==============================] - 2s 2ms/step - loss: 0.4658 - accuracy: 0.7712\n",
      "Epoch 56/100\n",
      "858/858 [==============================] - 2s 2ms/step - loss: 0.4660 - accuracy: 0.7710\n",
      "Epoch 57/100\n",
      "858/858 [==============================] - 2s 2ms/step - loss: 0.4660 - accuracy: 0.7708\n",
      "Epoch 58/100\n",
      "858/858 [==============================] - 2s 2ms/step - loss: 0.4659 - accuracy: 0.7711\n",
      "Epoch 59/100\n",
      "858/858 [==============================] - 2s 2ms/step - loss: 0.4658 - accuracy: 0.7716\n",
      "Epoch 60/100\n",
      "858/858 [==============================] - 2s 2ms/step - loss: 0.4657 - accuracy: 0.7711\n",
      "Epoch 61/100\n",
      "858/858 [==============================] - 2s 2ms/step - loss: 0.4659 - accuracy: 0.7703\n",
      "Epoch 62/100\n",
      "858/858 [==============================] - 2s 2ms/step - loss: 0.4656 - accuracy: 0.7708\n",
      "Epoch 63/100\n",
      "858/858 [==============================] - 2s 2ms/step - loss: 0.4656 - accuracy: 0.7707\n",
      "Epoch 64/100\n",
      "858/858 [==============================] - 2s 2ms/step - loss: 0.4654 - accuracy: 0.7722\n",
      "Epoch 65/100\n",
      "858/858 [==============================] - 2s 2ms/step - loss: 0.4659 - accuracy: 0.7712\n",
      "Epoch 66/100\n",
      "858/858 [==============================] - 2s 2ms/step - loss: 0.4655 - accuracy: 0.7714\n",
      "Epoch 67/100\n",
      "858/858 [==============================] - 2s 2ms/step - loss: 0.4655 - accuracy: 0.7709\n",
      "Epoch 68/100\n",
      "858/858 [==============================] - 2s 2ms/step - loss: 0.4655 - accuracy: 0.7713\n",
      "Epoch 69/100\n",
      "858/858 [==============================] - 2s 2ms/step - loss: 0.4654 - accuracy: 0.7712\n",
      "Epoch 70/100\n",
      "858/858 [==============================] - 2s 2ms/step - loss: 0.4656 - accuracy: 0.7718\n",
      "Epoch 71/100\n",
      "858/858 [==============================] - 2s 2ms/step - loss: 0.4654 - accuracy: 0.7715\n",
      "Epoch 72/100\n",
      "858/858 [==============================] - 2s 2ms/step - loss: 0.4656 - accuracy: 0.7713\n",
      "Epoch 73/100\n",
      "858/858 [==============================] - 2s 2ms/step - loss: 0.4652 - accuracy: 0.7723\n",
      "Epoch 74/100\n",
      "858/858 [==============================] - 2s 2ms/step - loss: 0.4653 - accuracy: 0.7720\n",
      "Epoch 75/100\n",
      "858/858 [==============================] - 2s 2ms/step - loss: 0.4654 - accuracy: 0.7721\n",
      "Epoch 76/100\n",
      "858/858 [==============================] - 2s 2ms/step - loss: 0.4653 - accuracy: 0.7715\n",
      "Epoch 77/100\n",
      "858/858 [==============================] - 2s 2ms/step - loss: 0.4651 - accuracy: 0.7716\n",
      "Epoch 78/100\n",
      "858/858 [==============================] - 2s 2ms/step - loss: 0.4651 - accuracy: 0.7723\n",
      "Epoch 79/100\n",
      "858/858 [==============================] - 2s 2ms/step - loss: 0.4649 - accuracy: 0.7716\n",
      "Epoch 80/100\n",
      "858/858 [==============================] - 2s 2ms/step - loss: 0.4650 - accuracy: 0.7717\n",
      "Epoch 81/100\n"
     ]
    },
    {
     "name": "stdout",
     "output_type": "stream",
     "text": [
      "858/858 [==============================] - 2s 2ms/step - loss: 0.4649 - accuracy: 0.7712\n",
      "Epoch 82/100\n",
      "858/858 [==============================] - 2s 2ms/step - loss: 0.4649 - accuracy: 0.7716\n",
      "Epoch 83/100\n",
      "858/858 [==============================] - 2s 2ms/step - loss: 0.4645 - accuracy: 0.7731\n",
      "Epoch 84/100\n",
      "858/858 [==============================] - 2s 2ms/step - loss: 0.4648 - accuracy: 0.7719\n",
      "Epoch 85/100\n",
      "858/858 [==============================] - 2s 2ms/step - loss: 0.4647 - accuracy: 0.7728\n",
      "Epoch 86/100\n",
      "858/858 [==============================] - 2s 2ms/step - loss: 0.4650 - accuracy: 0.7716\n",
      "Epoch 87/100\n",
      "858/858 [==============================] - 2s 2ms/step - loss: 0.4646 - accuracy: 0.7723\n",
      "Epoch 88/100\n",
      "858/858 [==============================] - 2s 2ms/step - loss: 0.4649 - accuracy: 0.7720\n",
      "Epoch 89/100\n",
      "858/858 [==============================] - 2s 2ms/step - loss: 0.4645 - accuracy: 0.7724\n",
      "Epoch 90/100\n",
      "858/858 [==============================] - 2s 2ms/step - loss: 0.4645 - accuracy: 0.7712\n",
      "Epoch 91/100\n",
      "858/858 [==============================] - 2s 2ms/step - loss: 0.4645 - accuracy: 0.7726\n",
      "Epoch 92/100\n",
      "858/858 [==============================] - 2s 2ms/step - loss: 0.4647 - accuracy: 0.7724\n",
      "Epoch 93/100\n",
      "858/858 [==============================] - 2s 2ms/step - loss: 0.4648 - accuracy: 0.7723\n",
      "Epoch 94/100\n",
      "858/858 [==============================] - 2s 2ms/step - loss: 0.4647 - accuracy: 0.7729\n",
      "Epoch 95/100\n",
      "858/858 [==============================] - 2s 2ms/step - loss: 0.4646 - accuracy: 0.7723\n",
      "Epoch 96/100\n",
      "858/858 [==============================] - 2s 2ms/step - loss: 0.4647 - accuracy: 0.7721\n",
      "Epoch 97/100\n",
      "858/858 [==============================] - 2s 2ms/step - loss: 0.4646 - accuracy: 0.7728\n",
      "Epoch 98/100\n",
      "858/858 [==============================] - 2s 2ms/step - loss: 0.4646 - accuracy: 0.7723\n",
      "Epoch 99/100\n",
      "858/858 [==============================] - 2s 2ms/step - loss: 0.4642 - accuracy: 0.7726\n",
      "Epoch 100/100\n",
      "858/858 [==============================] - 2s 2ms/step - loss: 0.4642 - accuracy: 0.7720\n"
     ]
    }
   ],
   "source": [
    "# Train the model\n",
    "model_history = nn.fit(X_train_scaled, y_train, epochs=100, verbose=1)"
   ]
  },
  {
   "cell_type": "code",
   "execution_count": 17,
   "metadata": {},
   "outputs": [
    {
     "name": "stdout",
     "output_type": "stream",
     "text": [
      "215/215 - 0s - loss: 0.4944 - accuracy: 0.7582 - 425ms/epoch - 2ms/step\n",
      "Loss: 0.4944210648536682, Accuracy: 0.7581632733345032\n"
     ]
    }
   ],
   "source": [
    "# Evaluate the model using the test data\n",
    "model_loss, model_accuracy = nn.evaluate(X_test_scaled,y_test,verbose=2)\n",
    "print(f\"Loss: {model_loss}, Accuracy: {model_accuracy}\")"
   ]
  },
  {
   "cell_type": "code",
   "execution_count": 18,
   "metadata": {},
   "outputs": [],
   "source": [
    "# Export our model to HDF5 file\n",
    "nn.save(\"AlphabetSoupCharity_Optimization.h5\")"
   ]
  }
 ],
 "metadata": {
  "kernelspec": {
   "display_name": "PythonData",
   "language": "python",
   "name": "pythondata"
  },
  "language_info": {
   "codemirror_mode": {
    "name": "ipython",
    "version": 3
   },
   "file_extension": ".py",
   "mimetype": "text/x-python",
   "name": "python",
   "nbconvert_exporter": "python",
   "pygments_lexer": "ipython3",
   "version": "3.7.7"
  },
  "vscode": {
   "interpreter": {
    "hash": "31f2aee4e71d21fbe5cf8b01ff0e069b9275f58929596ceb00d14d90e3e16cd6"
   }
  }
 },
 "nbformat": 4,
 "nbformat_minor": 4
}
